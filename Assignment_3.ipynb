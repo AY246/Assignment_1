{
 "cells": [
  {
   "cell_type": "code",
   "execution_count": 16,
   "metadata": {},
   "outputs": [
    {
     "name": "stdout",
     "output_type": "stream",
     "text": [
      "Give a positive integer number: 93084\n",
      "93084 is an Armstrong number\n"
     ]
    }
   ],
   "source": [
    "num = input('Give a positive integer number: ')\n",
    "\n",
    "if num.isdigit() != True:\n",
    "    print('It is an invalid entry. Don\\'t use non-numeric, float, or negative values!')\n",
    "\n",
    "else:\n",
    "    num_list = list(num)\n",
    "    i = 0\n",
    "    total = 0\n",
    "    while i <= (len(num_list) - 1) :\n",
    "        total += int(num_list[i]) ** len(num_list)\n",
    "        i += 1\n",
    "    if int(num) == total :\n",
    "        print(f'{num} is an Armstrong number')\n",
    "    else:\n",
    "        print(f'{num} is not an Armstrong number')"
   ]
  },
  {
   "cell_type": "code",
   "execution_count": null,
   "metadata": {},
   "outputs": [],
   "source": []
  }
 ],
 "metadata": {
  "kernelspec": {
   "display_name": "Python 3",
   "language": "python",
   "name": "python3"
  },
  "language_info": {
   "codemirror_mode": {
    "name": "ipython",
    "version": 3
   },
   "file_extension": ".py",
   "mimetype": "text/x-python",
   "name": "python",
   "nbconvert_exporter": "python",
   "pygments_lexer": "ipython3",
   "version": "3.7.6"
  }
 },
 "nbformat": 4,
 "nbformat_minor": 4
}
