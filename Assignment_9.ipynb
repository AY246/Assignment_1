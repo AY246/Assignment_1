{
 "cells": [
  {
   "cell_type": "code",
   "execution_count": 3,
   "metadata": {},
   "outputs": [
    {
     "name": "stdout",
     "output_type": "stream",
     "text": [
      "Enter any sentence: I like swimming\n",
      "{'I': 1, ' ': 2, 'l': 1, 'i': 3, 'k': 1, 'e': 1, 's': 1, 'w': 1, 'm': 2, 'n': 1, 'g': 1}\n"
     ]
    }
   ],
   "source": [
    "cumle = input('Enter any sentence: ')\n",
    "sozluk = {}\n",
    "for i in cumle:\n",
    "    keys = sozluk.keys()\n",
    "    if i in keys:\n",
    "        sozluk[i] += 1\n",
    "    else:\n",
    "        sozluk [i] = 1\n",
    "print(sozluk)"
   ]
  },
  {
   "cell_type": "code",
   "execution_count": null,
   "metadata": {},
   "outputs": [],
   "source": []
  }
 ],
 "metadata": {
  "kernelspec": {
   "display_name": "Python 3",
   "language": "python",
   "name": "python3"
  },
  "language_info": {
   "codemirror_mode": {
    "name": "ipython",
    "version": 3
   },
   "file_extension": ".py",
   "mimetype": "text/x-python",
   "name": "python",
   "nbconvert_exporter": "python",
   "pygments_lexer": "ipython3",
   "version": "3.7.6"
  }
 },
 "nbformat": 4,
 "nbformat_minor": 4
}
