{
 "cells": [
  {
   "cell_type": "code",
   "execution_count": 3,
   "metadata": {},
   "outputs": [
    {
     "name": "stdout",
     "output_type": "stream",
     "text": [
      "bir yıl giriniz: 1990\n",
      "1990 is not a leap year\n"
     ]
    }
   ],
   "source": [
    "leap_year = int(input(\"bir yıl giriniz: \"))\n",
    "if leap_year % 4 == 0 and (leap_year % 400 == 0 or leap_year % 100 != 0) :\n",
    "    print(leap_year, \"is a leap year\")\n",
    "else:\n",
    "    print(leap_year, \"is not a leap year\") "
   ]
  },
  {
   "cell_type": "code",
   "execution_count": null,
   "metadata": {},
   "outputs": [],
   "source": []
  }
 ],
 "metadata": {
  "kernelspec": {
   "display_name": "Python 3",
   "language": "python",
   "name": "python3"
  },
  "language_info": {
   "codemirror_mode": {
    "name": "ipython",
    "version": 3
   },
   "file_extension": ".py",
   "mimetype": "text/x-python",
   "name": "python",
   "nbconvert_exporter": "python",
   "pygments_lexer": "ipython3",
   "version": "3.7.6"
  }
 },
 "nbformat": 4,
 "nbformat_minor": 4
}
